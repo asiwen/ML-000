{
 "cells": [
  {
   "cell_type": "code",
   "execution_count": 2,
   "metadata": {},
   "outputs": [],
   "source": [
    "import numpy as np\n",
    "import pandas as pd"
   ]
  },
  {
   "cell_type": "markdown",
   "metadata": {},
   "source": [
    "加载 line_profiler 扩增, 执行魔术命令lprun分析代码:\n",
    "```jupyter\n",
    "%load_ext line_profiler\n",
    "%lprun\n",
    "```\n",
    "G20200616010153"
   ]
  },
  {
   "cell_type": "code",
   "execution_count": 3,
   "metadata": {},
   "outputs": [],
   "source": [
    "%load_ext line_profiler"
   ]
  },
  {
   "cell_type": "code",
   "execution_count": 5,
   "metadata": {},
   "outputs": [],
   "source": [
    "# test data\n",
    "y = np.random.randint(2, size=(5000, 1))\n",
    "x = np.random.randint(10, size=(5000, 1))\n",
    "data = pd.DataFrame(np.concatenate([y, x], axis=1), columns=['y', 'x'])"
   ]
  },
  {
   "cell_type": "code",
   "execution_count": 4,
   "metadata": {},
   "outputs": [],
   "source": [
    "def target_mean_v1(data, y_name, x_name):\n",
    "    result = np.zeros(data.shape[0])\n",
    "    for i in range(data.shape[0]):\n",
    "        groupby_result = data[data.index != i].groupby([x_name], as_index=False).agg(['mean', 'count'])\n",
    "        result[i] = groupby_result.loc[groupby_result.index == data.loc[i, x_name], (y_name, 'mean')]\n",
    "    return result"
   ]
  },
  {
   "cell_type": "code",
   "execution_count": 7,
   "metadata": {},
   "outputs": [
    {
     "data": {
      "text/plain": [
       "Timer unit: 1e-06 s\n",
       "\n",
       "Total time: 33.8473 s\n",
       "File: <ipython-input-4-1e10119a1d07>\n",
       "Function: target_mean_v1 at line 1\n",
       "\n",
       "Line #      Hits         Time  Per Hit   % Time  Line Contents\n",
       "==============================================================\n",
       "     1                                           def target_mean_v1(data, y_name, x_name):\n",
       "     2         1        131.0    131.0      0.0      result = np.zeros(data.shape[0])\n",
       "     3      5001       5849.0      1.2      0.0      for i in range(data.shape[0]):\n",
       "     4      5000   28619463.0   5723.9     84.6          groupby_result = data[data.index != i].groupby([x_name], as_index=False).agg(['mean', 'count'])\n",
       "     5      5000    5221895.0   1044.4     15.4          result[i] = groupby_result.loc[groupby_result.index == data.loc[i, x_name], (y_name, 'mean')]\n",
       "     6         1          0.0      0.0      0.0      return result"
      ]
     },
     "metadata": {},
     "output_type": "display_data"
    }
   ],
   "source": [
    "%lprun -f target_mean_v1 target_mean_v1(data, 'y', 'x')"
   ]
  },
  {
   "cell_type": "markdown",
   "metadata": {},
   "source": [
    "## target_mean_v2\n",
    "target_mean_v1 中为每条记录求mean,count，会导致其余数据多次sum, count。例如：求第1条时会对 [2, 5000]的记录进行分组sum, count。求第2条是会再次处理[3, 5000] + {1}的记录。\n",
    "\n",
    "改进方法：\n",
    "* 先对所有数据分组，同时计算该分组类的count，sum.\n",
    "* 在依次处理每条记录：找到该记录对应组，减去记录本身值后求mean。\n",
    "\n",
    "改进前时间复杂度： O(n*n), 改进后：O(n)，应该要快不少。"
   ]
  },
  {
   "cell_type": "code",
   "execution_count": 26,
   "metadata": {
    "jupyter": {
     "source_hidden": true
    }
   },
   "outputs": [],
   "source": [
    "def target_mean_v2(data, y_name, x_name):\n",
    "    grps = dict()\n",
    "    nrow = data.shape[0]\n",
    "    result = np.zeros(nrow)\n",
    "    total_sum = 0\n",
    "    total_count = 0\n",
    "    for rx in range(nrow):\n",
    "        row = data.iloc[rx]\n",
    "        x_v, y_v = row[x_name], row[y_name]\n",
    "        if x_v not in grps:\n",
    "            grps[x_v] = [y_v, 1]\n",
    "        else:\n",
    "            g = grps[x_v]\n",
    "            g[0] += y_v\n",
    "            g[1] += 1\n",
    "            \n",
    "        total_sum += y_v\n",
    "        total_count += 1\n",
    "            \n",
    "    for rx in range(nrow):\n",
    "        row = data.iloc[rx]\n",
    "        x_v, y_v = row[x_name], row[y_name]\n",
    "        g = grps[x_v]\n",
    "        if g[1] == 1:\n",
    "            result[rx] = total_sum / total_count\n",
    "        else:\n",
    "            result[rx] = (g[0] - y_v)/(g[1] - 1)\n",
    "    return result"
   ]
  },
  {
   "cell_type": "code",
   "execution_count": 29,
   "metadata": {},
   "outputs": [
    {
     "data": {
      "text/plain": [
       "Timer unit: 1e-06 s\n",
       "\n",
       "Total time: 2.03087 s\n",
       "File: <ipython-input-26-a7b5d990ef58>\n",
       "Function: target_mean_v2 at line 1\n",
       "\n",
       "Line #      Hits         Time  Per Hit   % Time  Line Contents\n",
       "==============================================================\n",
       "     1                                           def target_mean_v2(data, y_name, x_name):\n",
       "     2         1          1.0      1.0      0.0      grps = dict()\n",
       "     3         1         12.0     12.0      0.0      nrow = data.shape[0]\n",
       "     4         1         17.0     17.0      0.0      result = np.zeros(nrow)\n",
       "     5         1          1.0      1.0      0.0      total_sum = 0\n",
       "     6         1          0.0      0.0      0.0      total_count = 0\n",
       "     7      5001       2295.0      0.5      0.1      for rx in range(nrow):\n",
       "     8      5000     901154.0    180.2     44.4          row = data.iloc[rx]\n",
       "     9      5000     122426.0     24.5      6.0          x_v, y_v = row[x_name], row[y_name]\n",
       "    10      5000       4717.0      0.9      0.2          if x_v not in grps:\n",
       "    11        10          6.0      0.6      0.0              grps[x_v] = [y_v, 1]\n",
       "    12                                                   else:\n",
       "    13      4990       3042.0      0.6      0.1              g = grps[x_v]\n",
       "    14      4990       4799.0      1.0      0.2              g[0] += y_v\n",
       "    15      4990       2951.0      0.6      0.1              g[1] += 1\n",
       "    16                                                       \n",
       "    17      5000       2717.0      0.5      0.1          total_sum += y_v\n",
       "    18      5000       2304.0      0.5      0.1          total_count += 1\n",
       "    19                                                       \n",
       "    20      5001       2306.0      0.5      0.1      for rx in range(nrow):\n",
       "    21      5000     849628.0    169.9     41.8          row = data.iloc[rx]\n",
       "    22      5000     115871.0     23.2      5.7          x_v, y_v = row[x_name], row[y_name]\n",
       "    23      5000       4704.0      0.9      0.2          g = grps[x_v]\n",
       "    24      5000       2784.0      0.6      0.1          if g[1] == 1:\n",
       "    25                                                       result[rx] = total_sum / total_count\n",
       "    26                                                   else:\n",
       "    27      5000       9136.0      1.8      0.4              result[rx] = (g[0] - y_v)/(g[1] - 1)\n",
       "    28         1          1.0      1.0      0.0      return result"
      ]
     },
     "metadata": {},
     "output_type": "display_data"
    }
   ],
   "source": [
    "%lprun -f target_mean_v2 target_mean_v2(data, 'y', 'x')"
   ]
  },
  {
   "cell_type": "markdown",
   "metadata": {},
   "source": [
    "## target_encoding_v3\n",
    "target_encoding_v2 比 v1快约17倍。 根据v2的trick分析知： data.iloc 语句还有待优化。即采用DataFrame原生的元素检索方式性能非得低下，两处循环中DataFrame检索消耗占到了98%。\n",
    "\n",
    "利用DataFrame的values属性可以获得DataFrame内部数据的Numpy.narray二位数组表示形式。"
   ]
  },
  {
   "cell_type": "code",
   "execution_count": 35,
   "metadata": {
    "jupyter": {
     "source_hidden": true
    }
   },
   "outputs": [],
   "source": [
    "def target_mean_v3(data, y_idx, x_idx):\n",
    "    grps = dict()\n",
    "    nrow = data.shape[0]\n",
    "    raw_data = data.values\n",
    "    result = np.zeros(nrow)\n",
    "    total_sum = 0\n",
    "    total_count = 0\n",
    "    for rx in range(nrow):\n",
    "        x_v, y_v = raw_data[rx][x_idx], raw_data[rx][y_idx]\n",
    "        if x_v not in grps:\n",
    "            grps[x_v] = [y_v, 1]\n",
    "        else:\n",
    "            g = grps[x_v]\n",
    "            g[0] += y_v\n",
    "            g[1] += 1\n",
    "            \n",
    "        total_sum += y_v\n",
    "        total_count += 1\n",
    "            \n",
    "    total_mean = total_sum / total_count\n",
    "    \n",
    "    for rx in range(nrow):\n",
    "        x_v, y_v = raw_data[rx][x_idx], raw_data[rx][y_idx]\n",
    "        g = grps[x_v]\n",
    "        if g[1] == 1:\n",
    "            result[rx] = total_mean\n",
    "        else:\n",
    "            result[rx] = (g[0] - y_v)/(g[1] - 1)\n",
    "    return result"
   ]
  },
  {
   "cell_type": "code",
   "execution_count": 36,
   "metadata": {},
   "outputs": [
    {
     "data": {
      "text/plain": [
       "Timer unit: 1e-06 s\n",
       "\n",
       "Total time: 0.050626 s\n",
       "File: <ipython-input-35-307da1fd567d>\n",
       "Function: target_mean_v3 at line 1\n",
       "\n",
       "Line #      Hits         Time  Per Hit   % Time  Line Contents\n",
       "==============================================================\n",
       "     1                                           def target_mean_v3(data, y_idx, x_idx):\n",
       "     2         1          1.0      1.0      0.0      grps = dict()\n",
       "     3         1         14.0     14.0      0.0      nrow = data.shape[0]\n",
       "     4         1         43.0     43.0      0.1      raw_data = data.values\n",
       "     5         1         14.0     14.0      0.0      result = np.zeros(nrow)\n",
       "     6         1          0.0      0.0      0.0      total_sum = 0\n",
       "     7         1          0.0      0.0      0.0      total_count = 0\n",
       "     8      5001       2841.0      0.6      5.6      for rx in range(nrow):\n",
       "     9      5000       7555.0      1.5     14.9          x_v, y_v = raw_data[rx][x_idx], raw_data[rx][y_idx]\n",
       "    10      5000       6153.0      1.2     12.2          if x_v not in grps:\n",
       "    11        10          6.0      0.6      0.0              grps[x_v] = [y_v, 1]\n",
       "    12                                                   else:\n",
       "    13      4990       3365.0      0.7      6.6              g = grps[x_v]\n",
       "    14      4990       4246.0      0.9      8.4              g[0] += y_v\n",
       "    15      4990       3690.0      0.7      7.3              g[1] += 1\n",
       "    16                                                       \n",
       "    17      5000       3571.0      0.7      7.1          total_sum += y_v\n",
       "    18      5000       3074.0      0.6      6.1          total_count += 1\n",
       "    19                                                       \n",
       "    20         1          4.0      4.0      0.0      total_mean = total_sum / total_count\n",
       "    21                                               \n",
       "    22      5001       2027.0      0.4      4.0      for rx in range(nrow):\n",
       "    23      5000       5053.0      1.0     10.0          x_v, y_v = raw_data[rx][x_idx], raw_data[rx][y_idx]\n",
       "    24      5000       2318.0      0.5      4.6          g = grps[x_v]\n",
       "    25      5000       2240.0      0.4      4.4          if g[1] == 1:\n",
       "    26                                                       result[rx] = total_mean\n",
       "    27                                                   else:\n",
       "    28      5000       4411.0      0.9      8.7              result[rx] = (g[0] - y_v)/(g[1] - 1)\n",
       "    29         1          0.0      0.0      0.0      return result"
      ]
     },
     "metadata": {},
     "output_type": "display_data"
    }
   ],
   "source": [
    "# y_name 列的位置 0， x_name列的位置 1\n",
    "%lprun -f target_mean_v3 target_mean_v3(data, 0, 1)"
   ]
  },
  {
   "cell_type": "markdown",
   "metadata": {},
   "source": [
    "## target_encoding_v4\n",
    "\n",
    "v3 相比 v1提升了 600+倍（33 / 0.05）。从trick结果来看，如果不采用C语言等其他技术，那么至少还有一处可以优化，即 __分组查找__(行10，13，24)耗时占比近：23.4%\n",
    "\n",
    "事实上，如果x列的取值范围一定，那么可以采用数组的来存放分组（用下标来标识组key）\n"
   ]
  },
  {
   "cell_type": "code",
   "execution_count": 38,
   "metadata": {},
   "outputs": [
    {
     "data": {
      "text/plain": [
       "23.4"
      ]
     },
     "execution_count": 38,
     "metadata": {},
     "output_type": "execute_result"
    }
   ],
   "source": [
    "4.6 + 6.6 + 12.2"
   ]
  },
  {
   "cell_type": "code",
   "execution_count": 23,
   "metadata": {},
   "outputs": [
    {
     "data": {
      "text/plain": [
       "12"
      ]
     },
     "execution_count": 23,
     "metadata": {},
     "output_type": "execute_result"
    }
   ],
   "source": []
  },
  {
   "cell_type": "code",
   "execution_count": 60,
   "metadata": {},
   "outputs": [],
   "source": [
    "#%%timeit\n",
    "grps1 = data.groupby('x', as_index=True).agg(['mean','count'])"
   ]
  },
  {
   "cell_type": "code",
   "execution_count": 6,
   "metadata": {},
   "outputs": [
    {
     "data": {
      "text/html": [
       "<div>\n",
       "<style scoped>\n",
       "    .dataframe tbody tr th:only-of-type {\n",
       "        vertical-align: middle;\n",
       "    }\n",
       "\n",
       "    .dataframe tbody tr th {\n",
       "        vertical-align: top;\n",
       "    }\n",
       "\n",
       "    .dataframe thead th {\n",
       "        text-align: right;\n",
       "    }\n",
       "</style>\n",
       "<table border=\"1\" class=\"dataframe\">\n",
       "  <thead>\n",
       "    <tr style=\"text-align: right;\">\n",
       "      <th></th>\n",
       "      <th>y</th>\n",
       "      <th>x</th>\n",
       "    </tr>\n",
       "  </thead>\n",
       "  <tbody>\n",
       "    <tr>\n",
       "      <th>0</th>\n",
       "      <td>0</td>\n",
       "      <td>12</td>\n",
       "    </tr>\n",
       "    <tr>\n",
       "      <th>1</th>\n",
       "      <td>0</td>\n",
       "      <td>10</td>\n",
       "    </tr>\n",
       "    <tr>\n",
       "      <th>2</th>\n",
       "      <td>0</td>\n",
       "      <td>14</td>\n",
       "    </tr>\n",
       "    <tr>\n",
       "      <th>3</th>\n",
       "      <td>1</td>\n",
       "      <td>11</td>\n",
       "    </tr>\n",
       "    <tr>\n",
       "      <th>4</th>\n",
       "      <td>0</td>\n",
       "      <td>14</td>\n",
       "    </tr>\n",
       "    <tr>\n",
       "      <th>...</th>\n",
       "      <td>...</td>\n",
       "      <td>...</td>\n",
       "    </tr>\n",
       "    <tr>\n",
       "      <th>4995</th>\n",
       "      <td>1</td>\n",
       "      <td>16</td>\n",
       "    </tr>\n",
       "    <tr>\n",
       "      <th>4996</th>\n",
       "      <td>0</td>\n",
       "      <td>10</td>\n",
       "    </tr>\n",
       "    <tr>\n",
       "      <th>4997</th>\n",
       "      <td>1</td>\n",
       "      <td>16</td>\n",
       "    </tr>\n",
       "    <tr>\n",
       "      <th>4998</th>\n",
       "      <td>0</td>\n",
       "      <td>12</td>\n",
       "    </tr>\n",
       "    <tr>\n",
       "      <th>4999</th>\n",
       "      <td>0</td>\n",
       "      <td>13</td>\n",
       "    </tr>\n",
       "  </tbody>\n",
       "</table>\n",
       "<p>5000 rows × 2 columns</p>\n",
       "</div>"
      ],
      "text/plain": [
       "      y   x\n",
       "0     0  12\n",
       "1     0  10\n",
       "2     0  14\n",
       "3     1  11\n",
       "4     0  14\n",
       "...  ..  ..\n",
       "4995  1  16\n",
       "4996  0  10\n",
       "4997  1  16\n",
       "4998  0  12\n",
       "4999  0  13\n",
       "\n",
       "[5000 rows x 2 columns]"
      ]
     },
     "execution_count": 6,
     "metadata": {},
     "output_type": "execute_result"
    }
   ],
   "source": [
    "data."
   ]
  },
  {
   "cell_type": "code",
   "execution_count": 61,
   "metadata": {},
   "outputs": [
    {
     "data": {
      "text/html": [
       "<div>\n",
       "<style scoped>\n",
       "    .dataframe tbody tr th:only-of-type {\n",
       "        vertical-align: middle;\n",
       "    }\n",
       "\n",
       "    .dataframe tbody tr th {\n",
       "        vertical-align: top;\n",
       "    }\n",
       "\n",
       "    .dataframe thead tr th {\n",
       "        text-align: left;\n",
       "    }\n",
       "\n",
       "    .dataframe thead tr:last-of-type th {\n",
       "        text-align: right;\n",
       "    }\n",
       "</style>\n",
       "<table border=\"1\" class=\"dataframe\">\n",
       "  <thead>\n",
       "    <tr>\n",
       "      <th></th>\n",
       "      <th colspan=\"2\" halign=\"left\">y</th>\n",
       "    </tr>\n",
       "    <tr>\n",
       "      <th></th>\n",
       "      <th>mean</th>\n",
       "      <th>count</th>\n",
       "    </tr>\n",
       "    <tr>\n",
       "      <th>x</th>\n",
       "      <th></th>\n",
       "      <th></th>\n",
       "    </tr>\n",
       "  </thead>\n",
       "  <tbody>\n",
       "    <tr>\n",
       "      <th>10</th>\n",
       "      <td>0.490364</td>\n",
       "      <td>467</td>\n",
       "    </tr>\n",
       "    <tr>\n",
       "      <th>11</th>\n",
       "      <td>0.528846</td>\n",
       "      <td>520</td>\n",
       "    </tr>\n",
       "    <tr>\n",
       "      <th>12</th>\n",
       "      <td>0.458244</td>\n",
       "      <td>467</td>\n",
       "    </tr>\n",
       "    <tr>\n",
       "      <th>13</th>\n",
       "      <td>0.546025</td>\n",
       "      <td>478</td>\n",
       "    </tr>\n",
       "    <tr>\n",
       "      <th>14</th>\n",
       "      <td>0.499025</td>\n",
       "      <td>513</td>\n",
       "    </tr>\n",
       "    <tr>\n",
       "      <th>15</th>\n",
       "      <td>0.471400</td>\n",
       "      <td>507</td>\n",
       "    </tr>\n",
       "    <tr>\n",
       "      <th>16</th>\n",
       "      <td>0.532164</td>\n",
       "      <td>513</td>\n",
       "    </tr>\n",
       "    <tr>\n",
       "      <th>17</th>\n",
       "      <td>0.501984</td>\n",
       "      <td>504</td>\n",
       "    </tr>\n",
       "    <tr>\n",
       "      <th>18</th>\n",
       "      <td>0.521401</td>\n",
       "      <td>514</td>\n",
       "    </tr>\n",
       "    <tr>\n",
       "      <th>19</th>\n",
       "      <td>0.493230</td>\n",
       "      <td>517</td>\n",
       "    </tr>\n",
       "  </tbody>\n",
       "</table>\n",
       "</div>"
      ],
      "text/plain": [
       "           y      \n",
       "        mean count\n",
       "x                 \n",
       "10  0.490364   467\n",
       "11  0.528846   520\n",
       "12  0.458244   467\n",
       "13  0.546025   478\n",
       "14  0.499025   513\n",
       "15  0.471400   507\n",
       "16  0.532164   513\n",
       "17  0.501984   504\n",
       "18  0.521401   514\n",
       "19  0.493230   517"
      ]
     },
     "execution_count": 61,
     "metadata": {},
     "output_type": "execute_result"
    }
   ],
   "source": [
    "grps"
   ]
  },
  {
   "cell_type": "code",
   "execution_count": 58,
   "metadata": {},
   "outputs": [
    {
     "data": {
      "text/html": [
       "<div>\n",
       "<style scoped>\n",
       "    .dataframe tbody tr th:only-of-type {\n",
       "        vertical-align: middle;\n",
       "    }\n",
       "\n",
       "    .dataframe tbody tr th {\n",
       "        vertical-align: top;\n",
       "    }\n",
       "\n",
       "    .dataframe thead tr th {\n",
       "        text-align: left;\n",
       "    }\n",
       "\n",
       "    .dataframe thead tr:last-of-type th {\n",
       "        text-align: right;\n",
       "    }\n",
       "</style>\n",
       "<table border=\"1\" class=\"dataframe\">\n",
       "  <thead>\n",
       "    <tr>\n",
       "      <th></th>\n",
       "      <th colspan=\"2\" halign=\"left\">y</th>\n",
       "    </tr>\n",
       "    <tr>\n",
       "      <th></th>\n",
       "      <th>mean</th>\n",
       "      <th>count</th>\n",
       "    </tr>\n",
       "    <tr>\n",
       "      <th>x</th>\n",
       "      <th></th>\n",
       "      <th></th>\n",
       "    </tr>\n",
       "  </thead>\n",
       "  <tbody>\n",
       "    <tr>\n",
       "      <th>10</th>\n",
       "      <td>0.490364</td>\n",
       "      <td>467</td>\n",
       "    </tr>\n",
       "    <tr>\n",
       "      <th>11</th>\n",
       "      <td>0.528846</td>\n",
       "      <td>520</td>\n",
       "    </tr>\n",
       "    <tr>\n",
       "      <th>12</th>\n",
       "      <td>0.458244</td>\n",
       "      <td>467</td>\n",
       "    </tr>\n",
       "    <tr>\n",
       "      <th>13</th>\n",
       "      <td>0.546025</td>\n",
       "      <td>478</td>\n",
       "    </tr>\n",
       "    <tr>\n",
       "      <th>14</th>\n",
       "      <td>0.499025</td>\n",
       "      <td>513</td>\n",
       "    </tr>\n",
       "    <tr>\n",
       "      <th>15</th>\n",
       "      <td>0.471400</td>\n",
       "      <td>507</td>\n",
       "    </tr>\n",
       "    <tr>\n",
       "      <th>16</th>\n",
       "      <td>0.532164</td>\n",
       "      <td>513</td>\n",
       "    </tr>\n",
       "    <tr>\n",
       "      <th>17</th>\n",
       "      <td>0.501984</td>\n",
       "      <td>504</td>\n",
       "    </tr>\n",
       "    <tr>\n",
       "      <th>18</th>\n",
       "      <td>0.521401</td>\n",
       "      <td>514</td>\n",
       "    </tr>\n",
       "    <tr>\n",
       "      <th>19</th>\n",
       "      <td>0.493230</td>\n",
       "      <td>517</td>\n",
       "    </tr>\n",
       "  </tbody>\n",
       "</table>\n",
       "</div>"
      ],
      "text/plain": [
       "           y      \n",
       "        mean count\n",
       "x                 \n",
       "10  0.490364   467\n",
       "11  0.528846   520\n",
       "12  0.458244   467\n",
       "13  0.546025   478\n",
       "14  0.499025   513\n",
       "15  0.471400   507\n",
       "16  0.532164   513\n",
       "17  0.501984   504\n",
       "18  0.521401   514\n",
       "19  0.493230   517"
      ]
     },
     "execution_count": 58,
     "metadata": {},
     "output_type": "execute_result"
    }
   ],
   "source": [
    "grps"
   ]
  }
 ],
 "metadata": {
  "kernelspec": {
   "display_name": "Python 3",
   "language": "python",
   "name": "python3"
  },
  "language_info": {
   "codemirror_mode": {
    "name": "ipython",
    "version": 3
   },
   "file_extension": ".py",
   "mimetype": "text/x-python",
   "name": "python",
   "nbconvert_exporter": "python",
   "pygments_lexer": "ipython3",
   "version": "3.7.9"
  }
 },
 "nbformat": 4,
 "nbformat_minor": 4
}
